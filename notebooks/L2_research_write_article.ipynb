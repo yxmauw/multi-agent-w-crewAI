{
 "cells": [
  {
   "cell_type": "markdown",
   "metadata": {},
   "source": [
    "You can download the `requirements.txt` for this course from the workspace of this lab. `File --> Open...`"
   ]
  },
  {
   "cell_type": "markdown",
   "metadata": {},
   "source": [
    "# L2: Create Agents to Research and Write an Article\n",
    "\n",
    "In this lesson, you will be introduced to the foundational concepts of multi-agent systems and get an overview of the crewAI framework."
   ]
  },
  {
   "cell_type": "markdown",
   "metadata": {},
   "source": [
    "The libraries are already installed in the classroom. If you're running this notebook on your own machine, you can install the following:\n",
    "```Python\n",
    "!pip install crewai==0.28.8 crewai_tools==0.1.6 langchain_community==0.0.29\n",
    "```"
   ]
  },
  {
   "cell_type": "code",
   "execution_count": 1,
   "metadata": {
    "height": 64
   },
   "outputs": [],
   "source": [
    "# Warning control\n",
    "import warnings\n",
    "warnings.filterwarnings('ignore')"
   ]
  },
  {
   "cell_type": "markdown",
   "metadata": {},
   "source": [
    "- Import from the crewAI libray."
   ]
  },
  {
   "cell_type": "code",
   "execution_count": 2,
   "metadata": {
    "height": 30
   },
   "outputs": [],
   "source": [
    "from crewai import Agent, Task, Crew"
   ]
  },
  {
   "cell_type": "markdown",
   "metadata": {},
   "source": [
    "- As a LLM for your agents, you'll be using OpenAI's `gpt-3.5-turbo`.\n",
    "\n",
    "**Optional Note:** crewAI also allow other popular models to be used as a LLM for your Agents. You can see some of the examples at the [bottom of the notebook](#1)."
   ]
  },
  {
   "cell_type": "code",
   "execution_count": 3,
   "metadata": {
    "height": 98
   },
   "outputs": [],
   "source": [
    "import os\n",
    "from utils import get_openai_api_key\n",
    "\n",
    "openai_api_key = get_openai_api_key()\n",
    "os.environ[\"OPENAI_MODEL_NAME\"] = 'gpt-3.5-turbo'"
   ]
  },
  {
   "cell_type": "markdown",
   "metadata": {},
   "source": [
    "## Creating Agents\n",
    "\n",
    "- Define your Agents, and provide them a `role`, `goal` and `backstory`.\n",
    "- It has been seen that LLMs perform better when they are role playing."
   ]
  },
  {
   "cell_type": "markdown",
   "metadata": {},
   "source": [
    "### Agent: Planner\n",
    "\n",
    "**Note**: The benefit of using _multiple strings_ :\n",
    "```Python\n",
    "varname = \"line 1 of text\"\n",
    "          \"line 2 of text\"\n",
    "```\n",
    "\n",
    "versus the _triple quote docstring_:\n",
    "```Python\n",
    "varname = \"\"\"line 1 of text\n",
    "             line 2 of text\n",
    "          \"\"\"\n",
    "```\n",
    "is that it can avoid adding those whitespaces and newline characters, making it better formatted to be passed to the LLM."
   ]
  },
  {
   "cell_type": "code",
   "execution_count": 4,
   "metadata": {
    "height": 251
   },
   "outputs": [],
   "source": [
    "planner = Agent(\n",
    "    role=\"Content Planner\",\n",
    "    goal=\"Plan engaging and factually accurate content on {topic}\",\n",
    "    backstory=\"You're working on planning a blog article \"\n",
    "              \"about the topic: {topic}.\"\n",
    "              \"You collect information that helps the \"\n",
    "              \"audience learn something \"\n",
    "              \"and make informed decisions. \"\n",
    "              \"Your work is the basis for \"\n",
    "              \"the Content Writer to write an article on this topic.\",\n",
    "    allow_delegation=False,  # dont allow delegation to another agent\n",
    "\tverbose=True  # to show agent's inner thoughts\n",
    ")"
   ]
  },
  {
   "cell_type": "markdown",
   "metadata": {},
   "source": [
    "### Agent: Writer"
   ]
  },
  {
   "cell_type": "code",
   "execution_count": 5,
   "metadata": {
    "height": 387
   },
   "outputs": [],
   "source": [
    "writer = Agent(\n",
    "    role=\"Content Writer\",\n",
    "    goal=\"Write insightful and factually accurate \"\n",
    "         \"opinion piece about the topic: {topic}\",\n",
    "    backstory=\"You're working on a writing \"\n",
    "              \"a new opinion piece about the topic: {topic}. \"\n",
    "              \"You base your writing on the work of \"\n",
    "              \"the Content Planner, who provides an outline \"\n",
    "              \"and relevant context about the topic. \"\n",
    "              \"You follow the main objectives and \"\n",
    "              \"direction of the outline, \"\n",
    "              \"as provide by the Content Planner. \"\n",
    "              \"You also provide objective and impartial insights \"\n",
    "              \"and back them up with information \"\n",
    "              \"provide by the Content Planner. \"\n",
    "              \"You acknowledge in your opinion piece \"\n",
    "              \"when your statements are opinions \"\n",
    "              \"as opposed to objective statements.\",\n",
    "    allow_delegation=False,\n",
    "    verbose=True\n",
    ")"
   ]
  },
  {
   "cell_type": "markdown",
   "metadata": {},
   "source": [
    "### Agent: Editor"
   ]
  },
  {
   "cell_type": "code",
   "execution_count": 6,
   "metadata": {
    "height": 285
   },
   "outputs": [],
   "source": [
    "editor = Agent(\n",
    "    role=\"Editor\",\n",
    "    goal=\"Edit a given blog post to align with \"\n",
    "         \"the writing style of the organization. \",\n",
    "    backstory=\"You are an editor who receives a blog post \"\n",
    "              \"from the Content Writer. \"\n",
    "              \"Your goal is to review the blog post \"\n",
    "              \"to ensure that it follows journalistic best practices,\"\n",
    "              \"provides balanced viewpoints \"\n",
    "              \"when providing opinions or assertions, \"\n",
    "              \"and also avoids major controversial topics \"\n",
    "              \"or opinions when possible.\",\n",
    "    allow_delegation=False,\n",
    "    verbose=True\n",
    ")"
   ]
  },
  {
   "cell_type": "markdown",
   "metadata": {},
   "source": [
    "## Creating Tasks\n",
    "\n",
    "- Define your Tasks, and provide them a `description`, `expected_output` and `agent`."
   ]
  },
  {
   "cell_type": "markdown",
   "metadata": {},
   "source": [
    "### Task: Plan"
   ]
  },
  {
   "cell_type": "code",
   "execution_count": 7,
   "metadata": {
    "height": 285
   },
   "outputs": [],
   "source": [
    "plan = Task(\n",
    "    description=(\n",
    "        \"1. Prioritize the latest trends, key players, \"\n",
    "            \"and noteworthy news on {topic}.\\n\"\n",
    "        \"2. Identify the target audience, considering \"\n",
    "            \"their interests and pain points.\\n\"\n",
    "        \"3. Develop a detailed content outline including \"\n",
    "            \"an introduction, key points, and a call to action.\\n\"\n",
    "        \"4. Include SEO keywords and relevant data or sources.\"\n",
    "    ),\n",
    "    expected_output=\"A comprehensive content plan document \"\n",
    "        \"with an outline, audience analysis, \"\n",
    "        \"SEO keywords, and resources.\",\n",
    "    agent=planner,\n",
    ")"
   ]
  },
  {
   "cell_type": "markdown",
   "metadata": {},
   "source": [
    "### Task: Write"
   ]
  },
  {
   "cell_type": "code",
   "execution_count": 8,
   "metadata": {
    "height": 319
   },
   "outputs": [],
   "source": [
    "write = Task(\n",
    "    description=(\n",
    "        \"1. Use the content plan to craft a compelling \"\n",
    "            \"blog post on {topic}.\\n\"\n",
    "        \"2. Incorporate SEO keywords naturally.\\n\"\n",
    "\t\t\"3. Sections/Subtitles are properly named \"\n",
    "            \"in an engaging manner.\\n\"\n",
    "        \"4. Ensure the post is structured with an \"\n",
    "            \"engaging introduction, insightful body, \"\n",
    "            \"and a summarizing conclusion.\\n\"\n",
    "        \"5. Proofread for grammatical errors and \"\n",
    "            \"alignment with the brand's voice.\\n\"\n",
    "    ),\n",
    "    expected_output=\"A well-written blog post \"\n",
    "        \"in markdown format, ready for publication, \"\n",
    "        \"each section should have 2 or 3 paragraphs.\",\n",
    "    agent=writer,\n",
    ")"
   ]
  },
  {
   "cell_type": "markdown",
   "metadata": {},
   "source": [
    "### Task: Edit"
   ]
  },
  {
   "cell_type": "code",
   "execution_count": 9,
   "metadata": {
    "height": 183
   },
   "outputs": [],
   "source": [
    "edit = Task(\n",
    "    description=(\"Proofread the given blog post for \"\n",
    "                 \"grammatical errors and \"\n",
    "                 \"alignment with the brand's voice.\"),\n",
    "    expected_output=\"A well-written blog post in markdown format, \"\n",
    "                    \"ready for publication, \"\n",
    "                    \"each section should have 2 or 3 paragraphs.\",\n",
    "    agent=editor\n",
    ")"
   ]
  },
  {
   "cell_type": "markdown",
   "metadata": {},
   "source": [
    "## Creating the Crew\n",
    "\n",
    "- Create your crew of Agents\n",
    "- Pass the tasks to be performed by those agents.\n",
    "    - **Note**: *For this simple example*, the tasks will be performed sequentially (i.e they are dependent on each other), so the _order_ of the task in the list _matters_.\n",
    "- `verbose=2` allows you to see all the logs of the execution. "
   ]
  },
  {
   "cell_type": "code",
   "execution_count": 10,
   "metadata": {
    "height": 98
   },
   "outputs": [],
   "source": [
    "crew = Crew(\n",
    "    agents=[planner, writer, editor],\n",
    "    tasks=[plan, write, edit],\n",
    "    verbose=2\n",
    ")"
   ]
  },
  {
   "cell_type": "markdown",
   "metadata": {},
   "source": [
    "## Running the Crew"
   ]
  },
  {
   "cell_type": "markdown",
   "metadata": {},
   "source": [
    "**Note**: LLMs can provide different outputs for they same input, so what you get might be different than what you see in the video."
   ]
  },
  {
   "cell_type": "code",
   "execution_count": 11,
   "metadata": {
    "height": 47
   },
   "outputs": [
    {
     "name": "stdout",
     "output_type": "stream",
     "text": [
      "\u001b[1m\u001b[95m [DEBUG]: == Working Agent: Content Planner\u001b[00m\n",
      "\u001b[1m\u001b[95m [INFO]: == Starting Task: 1. Prioritize the latest trends, key players, and noteworthy news on Artificial Intelligence.\n",
      "2. Identify the target audience, considering their interests and pain points.\n",
      "3. Develop a detailed content outline including an introduction, key points, and a call to action.\n",
      "4. Include SEO keywords and relevant data or sources.\u001b[00m\n",
      "\n",
      "\n",
      "\u001b[1m> Entering new CrewAgentExecutor chain...\u001b[0m\n",
      "\u001b[32;1m\u001b[1;3mI now can give a great answer\n",
      "\n",
      "Final Answer: \n",
      "\n",
      "Title: Unveiling the Latest Trends and Key Players in Artificial Intelligence\n",
      "\n",
      "Introduction:\n",
      "- Brief overview of the importance of Artificial Intelligence in today's technological landscape\n",
      "- Mention of the rapid advancements and innovations in AI technology\n",
      "\n",
      "Key Points:\n",
      "1. Latest Trends in Artificial Intelligence:\n",
      "- Machine Learning and Deep Learning advancements\n",
      "- Natural Language Processing applications\n",
      "- AI in healthcare, finance, and autonomous vehicles\n",
      "- Ethical considerations in AI development\n",
      "\n",
      "2. Key Players in the AI Industry:\n",
      "- Google's DeepMind\n",
      "- IBM Watson\n",
      "- Amazon Web Services\n",
      "- Microsoft Azure\n",
      "- OpenAI\n",
      "\n",
      "3. Noteworthy News in AI:\n",
      "- Recent breakthroughs in AI research\n",
      "- AI applications in various industries\n",
      "- Updates on AI regulations and policies\n",
      "\n",
      "Audience Analysis:\n",
      "- Target audience includes tech enthusiasts, business professionals, and students interested in AI\n",
      "- Interests: AI advancements, industry applications, ethical considerations\n",
      "- Pain points: Understanding complex AI concepts, keeping up with latest trends\n",
      "\n",
      "SEO Keywords:\n",
      "- Artificial Intelligence trends\n",
      "- Key players in AI\n",
      "- Noteworthy news in Artificial Intelligence\n",
      "- AI industry updates\n",
      "\n",
      "Call to Action:\n",
      "- Encourage readers to stay informed about AI trends by subscribing to our newsletter\n",
      "- Invite readers to engage in discussions on our social media platforms\n",
      "\n",
      "Resources:\n",
      "- Articles from reputable sources such as Forbes, TechCrunch, and MIT Technology Review\n",
      "- Reports from industry research firms like Gartner and IDC\n",
      "- Official websites of key players in the AI industry\n",
      "\n",
      "Overall, this content plan aims to provide a comprehensive overview of the latest trends and key players in Artificial Intelligence, catering to the interests and needs of our target audience.\u001b[0m\n",
      "\n",
      "\u001b[1m> Finished chain.\u001b[0m\n",
      "\u001b[1m\u001b[92m [DEBUG]: == [Content Planner] Task output: Title: Unveiling the Latest Trends and Key Players in Artificial Intelligence\n",
      "\n",
      "Introduction:\n",
      "- Brief overview of the importance of Artificial Intelligence in today's technological landscape\n",
      "- Mention of the rapid advancements and innovations in AI technology\n",
      "\n",
      "Key Points:\n",
      "1. Latest Trends in Artificial Intelligence:\n",
      "- Machine Learning and Deep Learning advancements\n",
      "- Natural Language Processing applications\n",
      "- AI in healthcare, finance, and autonomous vehicles\n",
      "- Ethical considerations in AI development\n",
      "\n",
      "2. Key Players in the AI Industry:\n",
      "- Google's DeepMind\n",
      "- IBM Watson\n",
      "- Amazon Web Services\n",
      "- Microsoft Azure\n",
      "- OpenAI\n",
      "\n",
      "3. Noteworthy News in AI:\n",
      "- Recent breakthroughs in AI research\n",
      "- AI applications in various industries\n",
      "- Updates on AI regulations and policies\n",
      "\n",
      "Audience Analysis:\n",
      "- Target audience includes tech enthusiasts, business professionals, and students interested in AI\n",
      "- Interests: AI advancements, industry applications, ethical considerations\n",
      "- Pain points: Understanding complex AI concepts, keeping up with latest trends\n",
      "\n",
      "SEO Keywords:\n",
      "- Artificial Intelligence trends\n",
      "- Key players in AI\n",
      "- Noteworthy news in Artificial Intelligence\n",
      "- AI industry updates\n",
      "\n",
      "Call to Action:\n",
      "- Encourage readers to stay informed about AI trends by subscribing to our newsletter\n",
      "- Invite readers to engage in discussions on our social media platforms\n",
      "\n",
      "Resources:\n",
      "- Articles from reputable sources such as Forbes, TechCrunch, and MIT Technology Review\n",
      "- Reports from industry research firms like Gartner and IDC\n",
      "- Official websites of key players in the AI industry\n",
      "\n",
      "Overall, this content plan aims to provide a comprehensive overview of the latest trends and key players in Artificial Intelligence, catering to the interests and needs of our target audience.\n",
      "\n",
      "\u001b[00m\n",
      "\u001b[1m\u001b[95m [DEBUG]: == Working Agent: Content Writer\u001b[00m\n",
      "\u001b[1m\u001b[95m [INFO]: == Starting Task: 1. Use the content plan to craft a compelling blog post on Artificial Intelligence.\n",
      "2. Incorporate SEO keywords naturally.\n",
      "3. Sections/Subtitles are properly named in an engaging manner.\n",
      "4. Ensure the post is structured with an engaging introduction, insightful body, and a summarizing conclusion.\n",
      "5. Proofread for grammatical errors and alignment with the brand's voice.\n",
      "\u001b[00m\n",
      "\n",
      "\n",
      "\u001b[1m> Entering new CrewAgentExecutor chain...\u001b[0m\n",
      "\u001b[32;1m\u001b[1;3mI now can give a great answer\n",
      "\n",
      "Final Answer:\n",
      "\n",
      "# Unveiling the Latest Trends and Key Players in Artificial Intelligence\n",
      "\n",
      "## Introduction\n",
      "Artificial Intelligence (AI) has become a pivotal force in shaping the technological landscape of today. With rapid advancements and innovations in AI technology, the possibilities seem endless. From enhancing efficiency in various industries to revolutionizing healthcare and finance, AI is at the forefront of driving progress and change.\n",
      "\n",
      "## Latest Trends in Artificial Intelligence\n",
      "### Machine Learning and Deep Learning Advancements\n",
      "Machine learning and deep learning have been key drivers of AI progress. These technologies enable machines to learn from data, recognize patterns, and make decisions without explicit programming. The continuous improvements in algorithms and computing power have led to significant breakthroughs in AI capabilities.\n",
      "\n",
      "### Natural Language Processing Applications\n",
      "Natural Language Processing (NLP) has seen remarkable advancements, allowing machines to understand and generate human language. From virtual assistants to language translation tools, NLP is transforming how we interact with technology and each other.\n",
      "\n",
      "### AI in Healthcare, Finance, and Autonomous Vehicles\n",
      "AI is making significant strides in healthcare by improving diagnostics, personalized treatment plans, and drug discovery. In finance, AI is optimizing trading strategies, fraud detection, and customer service. Moreover, autonomous vehicles are leveraging AI for enhanced safety, navigation, and efficiency on the roads.\n",
      "\n",
      "### Ethical Considerations in AI Development\n",
      "As AI continues to evolve, ethical considerations have become paramount. Issues such as bias in algorithms, data privacy, and the societal impact of AI implementations need careful attention. It is essential for developers and policymakers to address these ethical challenges to ensure responsible AI deployment.\n",
      "\n",
      "## Key Players in the AI Industry\n",
      "The AI industry is populated by key players who are driving innovation and setting the pace for technological advancements.\n",
      "### Google's DeepMind\n",
      "Google's DeepMind is renowned for its groundbreaking work in AI research, particularly in areas like reinforcement learning and neural networks. Their contributions have paved the way for significant breakthroughs in AI applications.\n",
      "\n",
      "### IBM Watson\n",
      "IBM Watson is a pioneer in cognitive computing, offering AI solutions for businesses across various sectors. From healthcare to finance, IBM Watson's cognitive capabilities have been instrumental in transforming industries.\n",
      "\n",
      "### Amazon Web Services\n",
      "Amazon Web Services (AWS) provides a wide range of AI services and tools for developers, enabling them to build sophisticated AI applications. With cloud-based AI solutions, AWS has democratized access to AI technology for businesses of all sizes.\n",
      "\n",
      "### Microsoft Azure\n",
      "Microsoft Azure offers a comprehensive suite of AI services, including machine learning, cognitive services, and bot frameworks. Their AI solutions empower organizations to harness the power of data and drive intelligent decision-making.\n",
      "\n",
      "### OpenAI\n",
      "OpenAI is a research organization dedicated to advancing AI in a safe and beneficial manner. Their work focuses on developing AI technologies that are aligned with human values and ethics, promoting transparency and collaboration in AI research.\n",
      "\n",
      "## Noteworthy News in AI\n",
      "### Recent Breakthroughs in AI Research\n",
      "The field of AI is constantly evolving, with new breakthroughs and discoveries shaping the future of technology. From innovative algorithms to novel applications, AI research is pushing the boundaries of what is possible.\n",
      "\n",
      "### AI Applications in Various Industries\n",
      "AI is being increasingly integrated into diverse industries, from retail and manufacturing to education and entertainment. The transformative impact of AI applications is evident in optimizing processes, enhancing customer experiences, and driving business growth.\n",
      "\n",
      "### Updates on AI Regulations and Policies\n",
      "With the rapid expansion of AI technologies, regulatory frameworks and policies are essential to ensure ethical and responsible AI development. Governments and organizations are actively working on establishing guidelines to govern the use of AI and mitigate potential risks.\n",
      "\n",
      "## Audience Analysis\n",
      "Our target audience includes tech enthusiasts, business professionals, and students interested in AI. They are eager to explore the latest trends in AI, understand industry applications, and engage in discussions on ethical considerations. By providing insightful content on AI advancements, we aim to address their interests and pain points effectively.\n",
      "\n",
      "## Call to Action\n",
      "To stay informed about AI trends and developments, we encourage readers to subscribe to our newsletter for regular updates. Additionally, we invite readers to join the conversation on our social media platforms, where they can engage with like-minded individuals and share their perspectives on AI-related topics.\n",
      "\n",
      "In conclusion, Artificial Intelligence continues to shape the future of technology with its latest trends, key players, and noteworthy advancements. By staying informed and actively participating in discussions on AI, we can contribute to the responsible development and ethical deployment of AI technologies in society.\u001b[0m\n",
      "\n",
      "\u001b[1m> Finished chain.\u001b[0m\n",
      "\u001b[1m\u001b[92m [DEBUG]: == [Content Writer] Task output: # Unveiling the Latest Trends and Key Players in Artificial Intelligence\n",
      "\n",
      "## Introduction\n",
      "Artificial Intelligence (AI) has become a pivotal force in shaping the technological landscape of today. With rapid advancements and innovations in AI technology, the possibilities seem endless. From enhancing efficiency in various industries to revolutionizing healthcare and finance, AI is at the forefront of driving progress and change.\n",
      "\n",
      "## Latest Trends in Artificial Intelligence\n",
      "### Machine Learning and Deep Learning Advancements\n",
      "Machine learning and deep learning have been key drivers of AI progress. These technologies enable machines to learn from data, recognize patterns, and make decisions without explicit programming. The continuous improvements in algorithms and computing power have led to significant breakthroughs in AI capabilities.\n",
      "\n",
      "### Natural Language Processing Applications\n",
      "Natural Language Processing (NLP) has seen remarkable advancements, allowing machines to understand and generate human language. From virtual assistants to language translation tools, NLP is transforming how we interact with technology and each other.\n",
      "\n",
      "### AI in Healthcare, Finance, and Autonomous Vehicles\n",
      "AI is making significant strides in healthcare by improving diagnostics, personalized treatment plans, and drug discovery. In finance, AI is optimizing trading strategies, fraud detection, and customer service. Moreover, autonomous vehicles are leveraging AI for enhanced safety, navigation, and efficiency on the roads.\n",
      "\n",
      "### Ethical Considerations in AI Development\n",
      "As AI continues to evolve, ethical considerations have become paramount. Issues such as bias in algorithms, data privacy, and the societal impact of AI implementations need careful attention. It is essential for developers and policymakers to address these ethical challenges to ensure responsible AI deployment.\n",
      "\n",
      "## Key Players in the AI Industry\n",
      "The AI industry is populated by key players who are driving innovation and setting the pace for technological advancements.\n",
      "### Google's DeepMind\n",
      "Google's DeepMind is renowned for its groundbreaking work in AI research, particularly in areas like reinforcement learning and neural networks. Their contributions have paved the way for significant breakthroughs in AI applications.\n",
      "\n",
      "### IBM Watson\n",
      "IBM Watson is a pioneer in cognitive computing, offering AI solutions for businesses across various sectors. From healthcare to finance, IBM Watson's cognitive capabilities have been instrumental in transforming industries.\n",
      "\n",
      "### Amazon Web Services\n",
      "Amazon Web Services (AWS) provides a wide range of AI services and tools for developers, enabling them to build sophisticated AI applications. With cloud-based AI solutions, AWS has democratized access to AI technology for businesses of all sizes.\n",
      "\n",
      "### Microsoft Azure\n",
      "Microsoft Azure offers a comprehensive suite of AI services, including machine learning, cognitive services, and bot frameworks. Their AI solutions empower organizations to harness the power of data and drive intelligent decision-making.\n",
      "\n",
      "### OpenAI\n",
      "OpenAI is a research organization dedicated to advancing AI in a safe and beneficial manner. Their work focuses on developing AI technologies that are aligned with human values and ethics, promoting transparency and collaboration in AI research.\n",
      "\n",
      "## Noteworthy News in AI\n",
      "### Recent Breakthroughs in AI Research\n",
      "The field of AI is constantly evolving, with new breakthroughs and discoveries shaping the future of technology. From innovative algorithms to novel applications, AI research is pushing the boundaries of what is possible.\n",
      "\n",
      "### AI Applications in Various Industries\n",
      "AI is being increasingly integrated into diverse industries, from retail and manufacturing to education and entertainment. The transformative impact of AI applications is evident in optimizing processes, enhancing customer experiences, and driving business growth.\n",
      "\n",
      "### Updates on AI Regulations and Policies\n",
      "With the rapid expansion of AI technologies, regulatory frameworks and policies are essential to ensure ethical and responsible AI development. Governments and organizations are actively working on establishing guidelines to govern the use of AI and mitigate potential risks.\n",
      "\n",
      "## Audience Analysis\n",
      "Our target audience includes tech enthusiasts, business professionals, and students interested in AI. They are eager to explore the latest trends in AI, understand industry applications, and engage in discussions on ethical considerations. By providing insightful content on AI advancements, we aim to address their interests and pain points effectively.\n",
      "\n",
      "## Call to Action\n",
      "To stay informed about AI trends and developments, we encourage readers to subscribe to our newsletter for regular updates. Additionally, we invite readers to join the conversation on our social media platforms, where they can engage with like-minded individuals and share their perspectives on AI-related topics.\n",
      "\n",
      "In conclusion, Artificial Intelligence continues to shape the future of technology with its latest trends, key players, and noteworthy advancements. By staying informed and actively participating in discussions on AI, we can contribute to the responsible development and ethical deployment of AI technologies in society.\n",
      "\n",
      "\u001b[00m\n",
      "\u001b[1m\u001b[95m [DEBUG]: == Working Agent: Editor\u001b[00m\n",
      "\u001b[1m\u001b[95m [INFO]: == Starting Task: Proofread the given blog post for grammatical errors and alignment with the brand's voice.\u001b[00m\n",
      "\n",
      "\n",
      "\u001b[1m> Entering new CrewAgentExecutor chain...\u001b[0m\n"
     ]
    },
    {
     "name": "stdout",
     "output_type": "stream",
     "text": [
      "\u001b[32;1m\u001b[1;3mI now can give a great answer\n",
      "\n",
      "Final Answer:\n",
      "# Unveiling the Latest Trends and Key Players in Artificial Intelligence\n",
      "\n",
      "## Introduction\n",
      "Artificial Intelligence (AI) has become a pivotal force in shaping the technological landscape of today. With rapid advancements and innovations in AI technology, the possibilities seem endless. From enhancing efficiency in various industries to revolutionizing healthcare and finance, AI is at the forefront of driving progress and change.\n",
      "\n",
      "## Latest Trends in Artificial Intelligence\n",
      "Machine learning and deep learning have been key drivers of AI progress. These technologies enable machines to learn from data, recognize patterns, and make decisions without explicit programming. The continuous improvements in algorithms and computing power have led to significant breakthroughs in AI capabilities.\n",
      "\n",
      "Natural Language Processing (NLP) has seen remarkable advancements, allowing machines to understand and generate human language. From virtual assistants to language translation tools, NLP is transforming how we interact with technology and each other.\n",
      "\n",
      "AI is making significant strides in healthcare by improving diagnostics, personalized treatment plans, and drug discovery. In finance, AI is optimizing trading strategies, fraud detection, and customer service. Moreover, autonomous vehicles are leveraging AI for enhanced safety, navigation, and efficiency on the roads.\n",
      "\n",
      "As AI continues to evolve, ethical considerations have become paramount. Issues such as bias in algorithms, data privacy, and the societal impact of AI implementations need careful attention. It is essential for developers and policymakers to address these ethical challenges to ensure responsible AI deployment.\n",
      "\n",
      "## Key Players in the AI Industry\n",
      "The AI industry is populated by key players who are driving innovation and setting the pace for technological advancements.\n",
      "\n",
      "Google's DeepMind is renowned for its groundbreaking work in AI research, particularly in areas like reinforcement learning and neural networks. Their contributions have paved the way for significant breakthroughs in AI applications.\n",
      "\n",
      "IBM Watson is a pioneer in cognitive computing, offering AI solutions for businesses across various sectors. From healthcare to finance, IBM Watson's cognitive capabilities have been instrumental in transforming industries.\n",
      "\n",
      "Amazon Web Services provides a wide range of AI services and tools for developers, enabling them to build sophisticated AI applications. With cloud-based AI solutions, AWS has democratized access to AI technology for businesses of all sizes.\n",
      "\n",
      "Microsoft Azure offers a comprehensive suite of AI services, including machine learning, cognitive services, and bot frameworks. Their AI solutions empower organizations to harness the power of data and drive intelligent decision-making.\n",
      "\n",
      "OpenAI is a research organization dedicated to advancing AI in a safe and beneficial manner. Their work focuses on developing AI technologies that are aligned with human values and ethics, promoting transparency and collaboration in AI research.\n",
      "\n",
      "## Noteworthy News in AI\n",
      "The field of AI is constantly evolving, with new breakthroughs and discoveries shaping the future of technology. From innovative algorithms to novel applications, AI research is pushing the boundaries of what is possible.\n",
      "\n",
      "AI is being increasingly integrated into diverse industries, from retail and manufacturing to education and entertainment. The transformative impact of AI applications is evident in optimizing processes, enhancing customer experiences, and driving business growth.\n",
      "\n",
      "With the rapid expansion of AI technologies, regulatory frameworks and policies are essential to ensure ethical and responsible AI development. Governments and organizations are actively working on establishing guidelines to govern the use of AI and mitigate potential risks.\n",
      "\n",
      "## Audience Analysis\n",
      "Our target audience includes tech enthusiasts, business professionals, and students interested in AI. They are eager to explore the latest trends in AI, understand industry applications, and engage in discussions on ethical considerations. By providing insightful content on AI advancements, we aim to address their interests and pain points effectively.\n",
      "\n",
      "## Call to Action\n",
      "To stay informed about AI trends and developments, we encourage readers to subscribe to our newsletter for regular updates. Additionally, we invite readers to join the conversation on our social media platforms, where they can engage with like-minded individuals and share their perspectives on AI-related topics.\n",
      "\n",
      "In conclusion, Artificial Intelligence continues to shape the future of technology with its latest trends, key players, and noteworthy advancements. By staying informed and actively participating in discussions on AI, we can contribute to the responsible development and ethical deployment of AI technologies in society.\u001b[0m\n",
      "\n",
      "\u001b[1m> Finished chain.\u001b[0m\n",
      "\u001b[1m\u001b[92m [DEBUG]: == [Editor] Task output: # Unveiling the Latest Trends and Key Players in Artificial Intelligence\n",
      "\n",
      "## Introduction\n",
      "Artificial Intelligence (AI) has become a pivotal force in shaping the technological landscape of today. With rapid advancements and innovations in AI technology, the possibilities seem endless. From enhancing efficiency in various industries to revolutionizing healthcare and finance, AI is at the forefront of driving progress and change.\n",
      "\n",
      "## Latest Trends in Artificial Intelligence\n",
      "Machine learning and deep learning have been key drivers of AI progress. These technologies enable machines to learn from data, recognize patterns, and make decisions without explicit programming. The continuous improvements in algorithms and computing power have led to significant breakthroughs in AI capabilities.\n",
      "\n",
      "Natural Language Processing (NLP) has seen remarkable advancements, allowing machines to understand and generate human language. From virtual assistants to language translation tools, NLP is transforming how we interact with technology and each other.\n",
      "\n",
      "AI is making significant strides in healthcare by improving diagnostics, personalized treatment plans, and drug discovery. In finance, AI is optimizing trading strategies, fraud detection, and customer service. Moreover, autonomous vehicles are leveraging AI for enhanced safety, navigation, and efficiency on the roads.\n",
      "\n",
      "As AI continues to evolve, ethical considerations have become paramount. Issues such as bias in algorithms, data privacy, and the societal impact of AI implementations need careful attention. It is essential for developers and policymakers to address these ethical challenges to ensure responsible AI deployment.\n",
      "\n",
      "## Key Players in the AI Industry\n",
      "The AI industry is populated by key players who are driving innovation and setting the pace for technological advancements.\n",
      "\n",
      "Google's DeepMind is renowned for its groundbreaking work in AI research, particularly in areas like reinforcement learning and neural networks. Their contributions have paved the way for significant breakthroughs in AI applications.\n",
      "\n",
      "IBM Watson is a pioneer in cognitive computing, offering AI solutions for businesses across various sectors. From healthcare to finance, IBM Watson's cognitive capabilities have been instrumental in transforming industries.\n",
      "\n",
      "Amazon Web Services provides a wide range of AI services and tools for developers, enabling them to build sophisticated AI applications. With cloud-based AI solutions, AWS has democratized access to AI technology for businesses of all sizes.\n",
      "\n",
      "Microsoft Azure offers a comprehensive suite of AI services, including machine learning, cognitive services, and bot frameworks. Their AI solutions empower organizations to harness the power of data and drive intelligent decision-making.\n",
      "\n",
      "OpenAI is a research organization dedicated to advancing AI in a safe and beneficial manner. Their work focuses on developing AI technologies that are aligned with human values and ethics, promoting transparency and collaboration in AI research.\n",
      "\n",
      "## Noteworthy News in AI\n",
      "The field of AI is constantly evolving, with new breakthroughs and discoveries shaping the future of technology. From innovative algorithms to novel applications, AI research is pushing the boundaries of what is possible.\n",
      "\n",
      "AI is being increasingly integrated into diverse industries, from retail and manufacturing to education and entertainment. The transformative impact of AI applications is evident in optimizing processes, enhancing customer experiences, and driving business growth.\n",
      "\n",
      "With the rapid expansion of AI technologies, regulatory frameworks and policies are essential to ensure ethical and responsible AI development. Governments and organizations are actively working on establishing guidelines to govern the use of AI and mitigate potential risks.\n",
      "\n",
      "## Audience Analysis\n",
      "Our target audience includes tech enthusiasts, business professionals, and students interested in AI. They are eager to explore the latest trends in AI, understand industry applications, and engage in discussions on ethical considerations. By providing insightful content on AI advancements, we aim to address their interests and pain points effectively.\n",
      "\n",
      "## Call to Action\n",
      "To stay informed about AI trends and developments, we encourage readers to subscribe to our newsletter for regular updates. Additionally, we invite readers to join the conversation on our social media platforms, where they can engage with like-minded individuals and share their perspectives on AI-related topics.\n",
      "\n",
      "In conclusion, Artificial Intelligence continues to shape the future of technology with its latest trends, key players, and noteworthy advancements. By staying informed and actively participating in discussions on AI, we can contribute to the responsible development and ethical deployment of AI technologies in society.\n",
      "\n",
      "\u001b[00m\n"
     ]
    }
   ],
   "source": [
    "result = crew.kickoff(inputs={\"topic\": \"Artificial Intelligence\"})"
   ]
  },
  {
   "cell_type": "markdown",
   "metadata": {},
   "source": [
    "- Display the results of your execution as markdown in the notebook."
   ]
  },
  {
   "cell_type": "code",
   "execution_count": 12,
   "metadata": {
    "height": 47
   },
   "outputs": [
    {
     "data": {
      "text/markdown": [
       "# Unveiling the Latest Trends and Key Players in Artificial Intelligence\n",
       "\n",
       "## Introduction\n",
       "Artificial Intelligence (AI) has become a pivotal force in shaping the technological landscape of today. With rapid advancements and innovations in AI technology, the possibilities seem endless. From enhancing efficiency in various industries to revolutionizing healthcare and finance, AI is at the forefront of driving progress and change.\n",
       "\n",
       "## Latest Trends in Artificial Intelligence\n",
       "Machine learning and deep learning have been key drivers of AI progress. These technologies enable machines to learn from data, recognize patterns, and make decisions without explicit programming. The continuous improvements in algorithms and computing power have led to significant breakthroughs in AI capabilities.\n",
       "\n",
       "Natural Language Processing (NLP) has seen remarkable advancements, allowing machines to understand and generate human language. From virtual assistants to language translation tools, NLP is transforming how we interact with technology and each other.\n",
       "\n",
       "AI is making significant strides in healthcare by improving diagnostics, personalized treatment plans, and drug discovery. In finance, AI is optimizing trading strategies, fraud detection, and customer service. Moreover, autonomous vehicles are leveraging AI for enhanced safety, navigation, and efficiency on the roads.\n",
       "\n",
       "As AI continues to evolve, ethical considerations have become paramount. Issues such as bias in algorithms, data privacy, and the societal impact of AI implementations need careful attention. It is essential for developers and policymakers to address these ethical challenges to ensure responsible AI deployment.\n",
       "\n",
       "## Key Players in the AI Industry\n",
       "The AI industry is populated by key players who are driving innovation and setting the pace for technological advancements.\n",
       "\n",
       "Google's DeepMind is renowned for its groundbreaking work in AI research, particularly in areas like reinforcement learning and neural networks. Their contributions have paved the way for significant breakthroughs in AI applications.\n",
       "\n",
       "IBM Watson is a pioneer in cognitive computing, offering AI solutions for businesses across various sectors. From healthcare to finance, IBM Watson's cognitive capabilities have been instrumental in transforming industries.\n",
       "\n",
       "Amazon Web Services provides a wide range of AI services and tools for developers, enabling them to build sophisticated AI applications. With cloud-based AI solutions, AWS has democratized access to AI technology for businesses of all sizes.\n",
       "\n",
       "Microsoft Azure offers a comprehensive suite of AI services, including machine learning, cognitive services, and bot frameworks. Their AI solutions empower organizations to harness the power of data and drive intelligent decision-making.\n",
       "\n",
       "OpenAI is a research organization dedicated to advancing AI in a safe and beneficial manner. Their work focuses on developing AI technologies that are aligned with human values and ethics, promoting transparency and collaboration in AI research.\n",
       "\n",
       "## Noteworthy News in AI\n",
       "The field of AI is constantly evolving, with new breakthroughs and discoveries shaping the future of technology. From innovative algorithms to novel applications, AI research is pushing the boundaries of what is possible.\n",
       "\n",
       "AI is being increasingly integrated into diverse industries, from retail and manufacturing to education and entertainment. The transformative impact of AI applications is evident in optimizing processes, enhancing customer experiences, and driving business growth.\n",
       "\n",
       "With the rapid expansion of AI technologies, regulatory frameworks and policies are essential to ensure ethical and responsible AI development. Governments and organizations are actively working on establishing guidelines to govern the use of AI and mitigate potential risks.\n",
       "\n",
       "## Audience Analysis\n",
       "Our target audience includes tech enthusiasts, business professionals, and students interested in AI. They are eager to explore the latest trends in AI, understand industry applications, and engage in discussions on ethical considerations. By providing insightful content on AI advancements, we aim to address their interests and pain points effectively.\n",
       "\n",
       "## Call to Action\n",
       "To stay informed about AI trends and developments, we encourage readers to subscribe to our newsletter for regular updates. Additionally, we invite readers to join the conversation on our social media platforms, where they can engage with like-minded individuals and share their perspectives on AI-related topics.\n",
       "\n",
       "In conclusion, Artificial Intelligence continues to shape the future of technology with its latest trends, key players, and noteworthy advancements. By staying informed and actively participating in discussions on AI, we can contribute to the responsible development and ethical deployment of AI technologies in society."
      ],
      "text/plain": [
       "<IPython.core.display.Markdown object>"
      ]
     },
     "execution_count": 12,
     "metadata": {},
     "output_type": "execute_result"
    }
   ],
   "source": [
    "from IPython.display import Markdown\n",
    "Markdown(result)"
   ]
  },
  {
   "cell_type": "markdown",
   "metadata": {},
   "source": [
    "## Try it Yourself\n",
    "\n",
    "- Pass in a topic of your choice and see what the agents come up with!"
   ]
  },
  {
   "cell_type": "code",
   "execution_count": null,
   "metadata": {
    "height": 47
   },
   "outputs": [],
   "source": [
    "topic = \"YOUR TOPIC HERE\"\n",
    "result = crew.kickoff(inputs={\"topic\": topic})"
   ]
  },
  {
   "cell_type": "code",
   "execution_count": null,
   "metadata": {
    "height": 30
   },
   "outputs": [],
   "source": [
    "Markdown(result)"
   ]
  },
  {
   "cell_type": "markdown",
   "metadata": {},
   "source": [
    "<a name='1'></a>\n",
    " ## Other Popular Models as LLM for your Agents"
   ]
  },
  {
   "cell_type": "markdown",
   "metadata": {},
   "source": [
    "#### Hugging Face (HuggingFaceHub endpoint)\n",
    "\n",
    "```Python\n",
    "from langchain_community.llms import HuggingFaceHub\n",
    "\n",
    "llm = HuggingFaceHub(\n",
    "    repo_id=\"HuggingFaceH4/zephyr-7b-beta\",\n",
    "    huggingfacehub_api_token=\"<HF_TOKEN_HERE>\",\n",
    "    task=\"text-generation\",\n",
    ")\n",
    "\n",
    "### you will pass \"llm\" to your agent function\n",
    "```"
   ]
  },
  {
   "cell_type": "markdown",
   "metadata": {},
   "source": [
    "#### Mistral API\n",
    "\n",
    "```Python\n",
    "OPENAI_API_KEY=your-mistral-api-key\n",
    "OPENAI_API_BASE=https://api.mistral.ai/v1\n",
    "OPENAI_MODEL_NAME=\"mistral-small\"\n",
    "```"
   ]
  },
  {
   "cell_type": "markdown",
   "metadata": {},
   "source": [
    "#### Cohere\n",
    "\n",
    "```Python\n",
    "from langchain_community.chat_models import ChatCohere\n",
    "# Initialize language model\n",
    "os.environ[\"COHERE_API_KEY\"] = \"your-cohere-api-key\"\n",
    "llm = ChatCohere()\n",
    "\n",
    "### you will pass \"llm\" to your agent function\n",
    "```"
   ]
  },
  {
   "cell_type": "markdown",
   "metadata": {},
   "source": [
    "### For using Llama locally with Ollama and more, checkout the crewAI documentation on [Connecting to any LLM](https://docs.crewai.com/how-to/LLM-Connections/)."
   ]
  },
  {
   "cell_type": "code",
   "execution_count": null,
   "metadata": {
    "height": 30
   },
   "outputs": [],
   "source": []
  },
  {
   "cell_type": "code",
   "execution_count": null,
   "metadata": {
    "height": 30
   },
   "outputs": [],
   "source": []
  },
  {
   "cell_type": "code",
   "execution_count": null,
   "metadata": {
    "height": 30
   },
   "outputs": [],
   "source": []
  }
 ],
 "metadata": {
  "colab": {
   "gpuType": "T4",
   "provenance": []
  },
  "kernelspec": {
   "display_name": "Python 3 (ipykernel)",
   "language": "python",
   "name": "python3"
  },
  "language_info": {
   "codemirror_mode": {
    "name": "ipython",
    "version": 3
   },
   "file_extension": ".py",
   "mimetype": "text/x-python",
   "name": "python",
   "nbconvert_exporter": "python",
   "pygments_lexer": "ipython3",
   "version": "3.11.9"
  }
 },
 "nbformat": 4,
 "nbformat_minor": 4
}
